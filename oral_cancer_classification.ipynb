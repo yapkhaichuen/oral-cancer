{
 "cells": [
  {
   "cell_type": "code",
   "execution_count": 7,
   "metadata": {
    "_cell_guid": "b1076dfc-b9ad-4769-8c92-a6c4dae69d19",
    "_uuid": "8f2839f25d086af736a60e9eeb907d3b93b6e0e5",
    "execution": {
     "iopub.execute_input": "2023-04-20T06:44:19.943909Z",
     "iopub.status.busy": "2023-04-20T06:44:19.943468Z",
     "iopub.status.idle": "2023-04-20T06:44:21.194759Z",
     "shell.execute_reply": "2023-04-20T06:44:21.193500Z",
     "shell.execute_reply.started": "2023-04-20T06:44:19.943868Z"
    },
    "trusted": true
   },
   "outputs": [],
   "source": [
    "# Importing Necessary Libraries\n",
    "import cv2\n",
    "import os\n",
    "import shutil \n",
    "import math\n",
    "import random\n",
    "import numpy as np\n",
    "import pandas as pd \n",
    "import matplotlib.pyplot as plt\n",
    "from sklearn.metrics import mean_squared_error\n",
    "\n",
    "import warnings\n",
    "warnings.filterwarnings(\"ignore\")"
   ]
  },
  {
   "cell_type": "code",
   "execution_count": 3,
   "metadata": {
    "execution": {
     "iopub.execute_input": "2023-04-20T06:44:33.462606Z",
     "iopub.status.busy": "2023-04-20T06:44:33.461221Z",
     "iopub.status.idle": "2023-04-20T06:44:33.470861Z",
     "shell.execute_reply": "2023-04-20T06:44:33.469501Z",
     "shell.execute_reply.started": "2023-04-20T06:44:33.462549Z"
    },
    "trusted": true
   },
   "outputs": [
    {
     "name": "stdout",
     "output_type": "stream",
     "text": [
      "{'cancer': 87, 'non-cancer': 44}\n"
     ]
    }
   ],
   "source": [
    "def GetDatasetSize(path):\n",
    "    num_of_image = {}\n",
    "    for folder in os.listdir(path):\n",
    "        folder_path = os.path.join(path, folder)\n",
    "        if os.path.isdir(folder_path):  # Check if it's a directory\n",
    "            num_of_image[folder] = len(os.listdir(folder_path))\n",
    "    return num_of_image\n",
    "\n",
    "path = \"./image_data\"\n",
    "DatasetSize = GetDatasetSize(path)\n",
    "print(DatasetSize)\n"
   ]
  },
  {
   "cell_type": "markdown",
   "metadata": {},
   "source": [
    "###  Split the Dataset such that we have \n",
    "* 70% for Train Data\n",
    "* 15% for Validation Data\n",
    "* 15% for Testing Data"
   ]
  },
  {
   "cell_type": "code",
   "execution_count": 4,
   "metadata": {
    "execution": {
     "iopub.execute_input": "2023-04-20T06:44:33.473443Z",
     "iopub.status.busy": "2023-04-20T06:44:33.473066Z",
     "iopub.status.idle": "2023-04-20T06:44:33.503214Z",
     "shell.execute_reply": "2023-04-20T06:44:33.502112Z",
     "shell.execute_reply.started": "2023-04-20T06:44:33.473409Z"
    },
    "trusted": true
   },
   "outputs": [
    {
     "ename": "FileExistsError",
     "evalue": "[Errno 17] File exists: 'train/cancer'",
     "output_type": "error",
     "traceback": [
      "\u001b[0;31m---------------------------------------------------------------------------\u001b[0m",
      "\u001b[0;31mFileExistsError\u001b[0m                           Traceback (most recent call last)",
      "Cell \u001b[0;32mIn[4], line 44\u001b[0m\n\u001b[1;32m     42\u001b[0m root_dir \u001b[38;5;241m=\u001b[39m \u001b[38;5;124m'\u001b[39m\u001b[38;5;124m./image_data/\u001b[39m\u001b[38;5;124m'\u001b[39m              \u001b[38;5;66;03m# Dataset Root Folder\u001b[39;00m\n\u001b[1;32m     43\u001b[0m classes_dir \u001b[38;5;241m=\u001b[39m [\u001b[38;5;124m'\u001b[39m\u001b[38;5;124mcancer\u001b[39m\u001b[38;5;124m'\u001b[39m, \u001b[38;5;124m'\u001b[39m\u001b[38;5;124mnon-cancer\u001b[39m\u001b[38;5;124m'\u001b[39m]  \u001b[38;5;66;03m# Classes\u001b[39;00m\n\u001b[0;32m---> 44\u001b[0m \u001b[43mTrainValTestSplit\u001b[49m\u001b[43m(\u001b[49m\u001b[43mroot_dir\u001b[49m\u001b[43m,\u001b[49m\u001b[43m \u001b[49m\u001b[43mclasses_dir\u001b[49m\u001b[43m)\u001b[49m;\n",
      "Cell \u001b[0;32mIn[4], line 6\u001b[0m, in \u001b[0;36mTrainValTestSplit\u001b[0;34m(root_dir, classes_dir, val_ratio, test_ratio)\u001b[0m\n\u001b[1;32m      3\u001b[0m \u001b[38;5;28;01mdef\u001b[39;00m\u001b[38;5;250m \u001b[39m\u001b[38;5;21mTrainValTestSplit\u001b[39m(root_dir, classes_dir, val_ratio \u001b[38;5;241m=\u001b[39m \u001b[38;5;241m0.15\u001b[39m, test_ratio \u001b[38;5;241m=\u001b[39m \u001b[38;5;241m0.15\u001b[39m):\n\u001b[1;32m      4\u001b[0m     \u001b[38;5;28;01mfor\u001b[39;00m \u001b[38;5;28mcls\u001b[39m \u001b[38;5;129;01min\u001b[39;00m classes_dir:\n\u001b[1;32m      5\u001b[0m         \u001b[38;5;66;03m# Creating Split Folders\u001b[39;00m\n\u001b[0;32m----> 6\u001b[0m         \u001b[43mos\u001b[49m\u001b[38;5;241;43m.\u001b[39;49m\u001b[43mmakedirs\u001b[49m\u001b[43m(\u001b[49m\u001b[38;5;124;43m'\u001b[39;49m\u001b[38;5;124;43mtrain/\u001b[39;49m\u001b[38;5;124;43m'\u001b[39;49m\u001b[43m \u001b[49m\u001b[38;5;241;43m+\u001b[39;49m\u001b[43m \u001b[49m\u001b[38;5;28;43mcls\u001b[39;49m\u001b[43m)\u001b[49m\n\u001b[1;32m      7\u001b[0m         os\u001b[38;5;241m.\u001b[39mmakedirs(\u001b[38;5;124m'\u001b[39m\u001b[38;5;124mval/\u001b[39m\u001b[38;5;124m'\u001b[39m \u001b[38;5;241m+\u001b[39m \u001b[38;5;28mcls\u001b[39m)\n\u001b[1;32m      8\u001b[0m         os\u001b[38;5;241m.\u001b[39mmakedirs(\u001b[38;5;124m'\u001b[39m\u001b[38;5;124mtest/\u001b[39m\u001b[38;5;124m'\u001b[39m \u001b[38;5;241m+\u001b[39m \u001b[38;5;28mcls\u001b[39m)\n",
      "File \u001b[0;32m/opt/miniconda3/envs/oral-cancer/lib/python3.9/os.py:225\u001b[0m, in \u001b[0;36mmakedirs\u001b[0;34m(name, mode, exist_ok)\u001b[0m\n\u001b[1;32m    223\u001b[0m         \u001b[38;5;28;01mreturn\u001b[39;00m\n\u001b[1;32m    224\u001b[0m \u001b[38;5;28;01mtry\u001b[39;00m:\n\u001b[0;32m--> 225\u001b[0m     \u001b[43mmkdir\u001b[49m\u001b[43m(\u001b[49m\u001b[43mname\u001b[49m\u001b[43m,\u001b[49m\u001b[43m \u001b[49m\u001b[43mmode\u001b[49m\u001b[43m)\u001b[49m\n\u001b[1;32m    226\u001b[0m \u001b[38;5;28;01mexcept\u001b[39;00m \u001b[38;5;167;01mOSError\u001b[39;00m:\n\u001b[1;32m    227\u001b[0m     \u001b[38;5;66;03m# Cannot rely on checking for EEXIST, since the operating system\u001b[39;00m\n\u001b[1;32m    228\u001b[0m     \u001b[38;5;66;03m# could give priority to other errors like EACCES or EROFS\u001b[39;00m\n\u001b[1;32m    229\u001b[0m     \u001b[38;5;28;01mif\u001b[39;00m \u001b[38;5;129;01mnot\u001b[39;00m exist_ok \u001b[38;5;129;01mor\u001b[39;00m \u001b[38;5;129;01mnot\u001b[39;00m path\u001b[38;5;241m.\u001b[39misdir(name):\n",
      "\u001b[0;31mFileExistsError\u001b[0m: [Errno 17] File exists: 'train/cancer'"
     ]
    }
   ],
   "source": [
    "# Function for Creating Train / Validation / Test folders (One time use Only)\n",
    " \n",
    "def TrainValTestSplit(root_dir, classes_dir, val_ratio = 0.15, test_ratio = 0.15):\n",
    "    for cls in classes_dir:\n",
    "        # Creating Split Folders\n",
    "        os.makedirs('train/' + cls)\n",
    "        os.makedirs('val/' + cls)\n",
    "        os.makedirs('test/' + cls)\n",
    "\n",
    "        # Folder to copy images from\n",
    "        src = root_dir + cls\n",
    "        \n",
    "        # Storing the Filenames\n",
    "        allFileNames = os.listdir(src)\n",
    "        np.random.shuffle(allFileNames)\n",
    "        # Spliting the Files in the Given ratio\n",
    "        train_FileNames, val_FileNames, test_FileNames = np.split(np.array(allFileNames), [int(len(allFileNames)* (1 - (val_ratio + test_ratio))), int(len(allFileNames)* (1 - test_ratio))])\n",
    "\n",
    "        train_FileNames = [src+'/'+ name for name in train_FileNames.tolist()]\n",
    "        val_FileNames = [src+'/' + name for name in val_FileNames.tolist()]\n",
    "        test_FileNames = [src+'/' + name for name in test_FileNames.tolist()]\n",
    "\n",
    "        # Printing the Split Details\n",
    "        print(cls.upper(),':')\n",
    "        print('Total images: ', len(allFileNames))\n",
    "        print('Training: ', len(train_FileNames))\n",
    "        print('Validation: ', len(val_FileNames))\n",
    "        print('Testing: ', len(test_FileNames))\n",
    "\n",
    "        # Copy-pasting images\n",
    "        for name in train_FileNames:\n",
    "            shutil.copy(name, 'train/' + cls)\n",
    "\n",
    "        for name in val_FileNames:\n",
    "            shutil.copy(name, 'val/' + cls)\n",
    "\n",
    "        for name in test_FileNames:\n",
    "            shutil.copy(name, 'test/' + cls)\n",
    "        print();\n",
    "\n",
    "# Preforming Train / Validation / Test Split\n",
    "root_dir = './image_data/'              # Dataset Root Folder\n",
    "classes_dir = ['cancer', 'non-cancer']  # Classes\n",
    "TrainValTestSplit(root_dir, classes_dir);"
   ]
  },
  {
   "cell_type": "markdown",
   "metadata": {},
   "source": [
    "### Building Model \n"
   ]
  },
  {
   "cell_type": "code",
   "execution_count": 8,
   "metadata": {
    "execution": {
     "iopub.execute_input": "2023-04-20T06:44:33.504972Z",
     "iopub.status.busy": "2023-04-20T06:44:33.504658Z",
     "iopub.status.idle": "2023-04-20T06:44:42.220203Z",
     "shell.execute_reply": "2023-04-20T06:44:42.218505Z",
     "shell.execute_reply.started": "2023-04-20T06:44:33.504942Z"
    },
    "trusted": true
   },
   "outputs": [],
   "source": [
    "# Importing Keras for Image Classification\n",
    "import keras\n",
    "import tensorflow\n",
    "from keras.layers import Dense,Conv2D, Flatten, MaxPool2D, Dropout\n",
    "from keras.models import Sequential\n",
    "from tensorflow.keras.preprocessing import image\n",
    "from keras.callbacks import ModelCheckpoint\n",
    "from keras.models import load_model\n"
   ]
  },
  {
   "cell_type": "code",
   "execution_count": 9,
   "metadata": {
    "execution": {
     "iopub.execute_input": "2023-04-20T06:44:42.223157Z",
     "iopub.status.busy": "2023-04-20T06:44:42.222188Z",
     "iopub.status.idle": "2023-04-20T06:44:42.813147Z",
     "shell.execute_reply": "2023-04-20T06:44:42.811941Z",
     "shell.execute_reply.started": "2023-04-20T06:44:42.223102Z"
    },
    "trusted": true
   },
   "outputs": [
    {
     "data": {
      "text/html": [
       "<pre style=\"white-space:pre;overflow-x:auto;line-height:normal;font-family:Menlo,'DejaVu Sans Mono',consolas,'Courier New',monospace\"><span style=\"font-weight: bold\">Model: \"sequential\"</span>\n",
       "</pre>\n"
      ],
      "text/plain": [
       "\u001b[1mModel: \"sequential\"\u001b[0m\n"
      ]
     },
     "metadata": {},
     "output_type": "display_data"
    },
    {
     "data": {
      "text/html": [
       "<pre style=\"white-space:pre;overflow-x:auto;line-height:normal;font-family:Menlo,'DejaVu Sans Mono',consolas,'Courier New',monospace\">┏━━━━━━━━━━━━━━━━━━━━━━━━━━━━━━━━━┳━━━━━━━━━━━━━━━━━━━━━━━━┳━━━━━━━━━━━━━━━┓\n",
       "┃<span style=\"font-weight: bold\"> Layer (type)                    </span>┃<span style=\"font-weight: bold\"> Output Shape           </span>┃<span style=\"font-weight: bold\">       Param # </span>┃\n",
       "┡━━━━━━━━━━━━━━━━━━━━━━━━━━━━━━━━━╇━━━━━━━━━━━━━━━━━━━━━━━━╇━━━━━━━━━━━━━━━┩\n",
       "│ conv2d (<span style=\"color: #0087ff; text-decoration-color: #0087ff\">Conv2D</span>)                 │ (<span style=\"color: #00d7ff; text-decoration-color: #00d7ff\">None</span>, <span style=\"color: #00af00; text-decoration-color: #00af00\">254</span>, <span style=\"color: #00af00; text-decoration-color: #00af00\">254</span>, <span style=\"color: #00af00; text-decoration-color: #00af00\">32</span>)   │           <span style=\"color: #00af00; text-decoration-color: #00af00\">896</span> │\n",
       "├─────────────────────────────────┼────────────────────────┼───────────────┤\n",
       "│ conv2d_1 (<span style=\"color: #0087ff; text-decoration-color: #0087ff\">Conv2D</span>)               │ (<span style=\"color: #00d7ff; text-decoration-color: #00d7ff\">None</span>, <span style=\"color: #00af00; text-decoration-color: #00af00\">252</span>, <span style=\"color: #00af00; text-decoration-color: #00af00\">252</span>, <span style=\"color: #00af00; text-decoration-color: #00af00\">32</span>)   │         <span style=\"color: #00af00; text-decoration-color: #00af00\">9,248</span> │\n",
       "├─────────────────────────────────┼────────────────────────┼───────────────┤\n",
       "│ max_pooling2d (<span style=\"color: #0087ff; text-decoration-color: #0087ff\">MaxPooling2D</span>)    │ (<span style=\"color: #00d7ff; text-decoration-color: #00d7ff\">None</span>, <span style=\"color: #00af00; text-decoration-color: #00af00\">126</span>, <span style=\"color: #00af00; text-decoration-color: #00af00\">126</span>, <span style=\"color: #00af00; text-decoration-color: #00af00\">32</span>)   │             <span style=\"color: #00af00; text-decoration-color: #00af00\">0</span> │\n",
       "├─────────────────────────────────┼────────────────────────┼───────────────┤\n",
       "│ conv2d_2 (<span style=\"color: #0087ff; text-decoration-color: #0087ff\">Conv2D</span>)               │ (<span style=\"color: #00d7ff; text-decoration-color: #00d7ff\">None</span>, <span style=\"color: #00af00; text-decoration-color: #00af00\">124</span>, <span style=\"color: #00af00; text-decoration-color: #00af00\">124</span>, <span style=\"color: #00af00; text-decoration-color: #00af00\">64</span>)   │        <span style=\"color: #00af00; text-decoration-color: #00af00\">18,496</span> │\n",
       "├─────────────────────────────────┼────────────────────────┼───────────────┤\n",
       "│ max_pooling2d_1 (<span style=\"color: #0087ff; text-decoration-color: #0087ff\">MaxPooling2D</span>)  │ (<span style=\"color: #00d7ff; text-decoration-color: #00d7ff\">None</span>, <span style=\"color: #00af00; text-decoration-color: #00af00\">62</span>, <span style=\"color: #00af00; text-decoration-color: #00af00\">62</span>, <span style=\"color: #00af00; text-decoration-color: #00af00\">64</span>)     │             <span style=\"color: #00af00; text-decoration-color: #00af00\">0</span> │\n",
       "├─────────────────────────────────┼────────────────────────┼───────────────┤\n",
       "│ conv2d_3 (<span style=\"color: #0087ff; text-decoration-color: #0087ff\">Conv2D</span>)               │ (<span style=\"color: #00d7ff; text-decoration-color: #00d7ff\">None</span>, <span style=\"color: #00af00; text-decoration-color: #00af00\">60</span>, <span style=\"color: #00af00; text-decoration-color: #00af00\">60</span>, <span style=\"color: #00af00; text-decoration-color: #00af00\">128</span>)    │        <span style=\"color: #00af00; text-decoration-color: #00af00\">73,856</span> │\n",
       "├─────────────────────────────────┼────────────────────────┼───────────────┤\n",
       "│ max_pooling2d_2 (<span style=\"color: #0087ff; text-decoration-color: #0087ff\">MaxPooling2D</span>)  │ (<span style=\"color: #00d7ff; text-decoration-color: #00d7ff\">None</span>, <span style=\"color: #00af00; text-decoration-color: #00af00\">30</span>, <span style=\"color: #00af00; text-decoration-color: #00af00\">30</span>, <span style=\"color: #00af00; text-decoration-color: #00af00\">128</span>)    │             <span style=\"color: #00af00; text-decoration-color: #00af00\">0</span> │\n",
       "├─────────────────────────────────┼────────────────────────┼───────────────┤\n",
       "│ dropout (<span style=\"color: #0087ff; text-decoration-color: #0087ff\">Dropout</span>)               │ (<span style=\"color: #00d7ff; text-decoration-color: #00d7ff\">None</span>, <span style=\"color: #00af00; text-decoration-color: #00af00\">30</span>, <span style=\"color: #00af00; text-decoration-color: #00af00\">30</span>, <span style=\"color: #00af00; text-decoration-color: #00af00\">128</span>)    │             <span style=\"color: #00af00; text-decoration-color: #00af00\">0</span> │\n",
       "├─────────────────────────────────┼────────────────────────┼───────────────┤\n",
       "│ flatten (<span style=\"color: #0087ff; text-decoration-color: #0087ff\">Flatten</span>)               │ (<span style=\"color: #00d7ff; text-decoration-color: #00d7ff\">None</span>, <span style=\"color: #00af00; text-decoration-color: #00af00\">115200</span>)         │             <span style=\"color: #00af00; text-decoration-color: #00af00\">0</span> │\n",
       "├─────────────────────────────────┼────────────────────────┼───────────────┤\n",
       "│ dense (<span style=\"color: #0087ff; text-decoration-color: #0087ff\">Dense</span>)                   │ (<span style=\"color: #00d7ff; text-decoration-color: #00d7ff\">None</span>, <span style=\"color: #00af00; text-decoration-color: #00af00\">64</span>)             │     <span style=\"color: #00af00; text-decoration-color: #00af00\">7,372,864</span> │\n",
       "├─────────────────────────────────┼────────────────────────┼───────────────┤\n",
       "│ dropout_1 (<span style=\"color: #0087ff; text-decoration-color: #0087ff\">Dropout</span>)             │ (<span style=\"color: #00d7ff; text-decoration-color: #00d7ff\">None</span>, <span style=\"color: #00af00; text-decoration-color: #00af00\">64</span>)             │             <span style=\"color: #00af00; text-decoration-color: #00af00\">0</span> │\n",
       "├─────────────────────────────────┼────────────────────────┼───────────────┤\n",
       "│ dense_1 (<span style=\"color: #0087ff; text-decoration-color: #0087ff\">Dense</span>)                 │ (<span style=\"color: #00d7ff; text-decoration-color: #00d7ff\">None</span>, <span style=\"color: #00af00; text-decoration-color: #00af00\">1</span>)              │            <span style=\"color: #00af00; text-decoration-color: #00af00\">65</span> │\n",
       "└─────────────────────────────────┴────────────────────────┴───────────────┘\n",
       "</pre>\n"
      ],
      "text/plain": [
       "┏━━━━━━━━━━━━━━━━━━━━━━━━━━━━━━━━━┳━━━━━━━━━━━━━━━━━━━━━━━━┳━━━━━━━━━━━━━━━┓\n",
       "┃\u001b[1m \u001b[0m\u001b[1mLayer (type)                   \u001b[0m\u001b[1m \u001b[0m┃\u001b[1m \u001b[0m\u001b[1mOutput Shape          \u001b[0m\u001b[1m \u001b[0m┃\u001b[1m \u001b[0m\u001b[1m      Param #\u001b[0m\u001b[1m \u001b[0m┃\n",
       "┡━━━━━━━━━━━━━━━━━━━━━━━━━━━━━━━━━╇━━━━━━━━━━━━━━━━━━━━━━━━╇━━━━━━━━━━━━━━━┩\n",
       "│ conv2d (\u001b[38;5;33mConv2D\u001b[0m)                 │ (\u001b[38;5;45mNone\u001b[0m, \u001b[38;5;34m254\u001b[0m, \u001b[38;5;34m254\u001b[0m, \u001b[38;5;34m32\u001b[0m)   │           \u001b[38;5;34m896\u001b[0m │\n",
       "├─────────────────────────────────┼────────────────────────┼───────────────┤\n",
       "│ conv2d_1 (\u001b[38;5;33mConv2D\u001b[0m)               │ (\u001b[38;5;45mNone\u001b[0m, \u001b[38;5;34m252\u001b[0m, \u001b[38;5;34m252\u001b[0m, \u001b[38;5;34m32\u001b[0m)   │         \u001b[38;5;34m9,248\u001b[0m │\n",
       "├─────────────────────────────────┼────────────────────────┼───────────────┤\n",
       "│ max_pooling2d (\u001b[38;5;33mMaxPooling2D\u001b[0m)    │ (\u001b[38;5;45mNone\u001b[0m, \u001b[38;5;34m126\u001b[0m, \u001b[38;5;34m126\u001b[0m, \u001b[38;5;34m32\u001b[0m)   │             \u001b[38;5;34m0\u001b[0m │\n",
       "├─────────────────────────────────┼────────────────────────┼───────────────┤\n",
       "│ conv2d_2 (\u001b[38;5;33mConv2D\u001b[0m)               │ (\u001b[38;5;45mNone\u001b[0m, \u001b[38;5;34m124\u001b[0m, \u001b[38;5;34m124\u001b[0m, \u001b[38;5;34m64\u001b[0m)   │        \u001b[38;5;34m18,496\u001b[0m │\n",
       "├─────────────────────────────────┼────────────────────────┼───────────────┤\n",
       "│ max_pooling2d_1 (\u001b[38;5;33mMaxPooling2D\u001b[0m)  │ (\u001b[38;5;45mNone\u001b[0m, \u001b[38;5;34m62\u001b[0m, \u001b[38;5;34m62\u001b[0m, \u001b[38;5;34m64\u001b[0m)     │             \u001b[38;5;34m0\u001b[0m │\n",
       "├─────────────────────────────────┼────────────────────────┼───────────────┤\n",
       "│ conv2d_3 (\u001b[38;5;33mConv2D\u001b[0m)               │ (\u001b[38;5;45mNone\u001b[0m, \u001b[38;5;34m60\u001b[0m, \u001b[38;5;34m60\u001b[0m, \u001b[38;5;34m128\u001b[0m)    │        \u001b[38;5;34m73,856\u001b[0m │\n",
       "├─────────────────────────────────┼────────────────────────┼───────────────┤\n",
       "│ max_pooling2d_2 (\u001b[38;5;33mMaxPooling2D\u001b[0m)  │ (\u001b[38;5;45mNone\u001b[0m, \u001b[38;5;34m30\u001b[0m, \u001b[38;5;34m30\u001b[0m, \u001b[38;5;34m128\u001b[0m)    │             \u001b[38;5;34m0\u001b[0m │\n",
       "├─────────────────────────────────┼────────────────────────┼───────────────┤\n",
       "│ dropout (\u001b[38;5;33mDropout\u001b[0m)               │ (\u001b[38;5;45mNone\u001b[0m, \u001b[38;5;34m30\u001b[0m, \u001b[38;5;34m30\u001b[0m, \u001b[38;5;34m128\u001b[0m)    │             \u001b[38;5;34m0\u001b[0m │\n",
       "├─────────────────────────────────┼────────────────────────┼───────────────┤\n",
       "│ flatten (\u001b[38;5;33mFlatten\u001b[0m)               │ (\u001b[38;5;45mNone\u001b[0m, \u001b[38;5;34m115200\u001b[0m)         │             \u001b[38;5;34m0\u001b[0m │\n",
       "├─────────────────────────────────┼────────────────────────┼───────────────┤\n",
       "│ dense (\u001b[38;5;33mDense\u001b[0m)                   │ (\u001b[38;5;45mNone\u001b[0m, \u001b[38;5;34m64\u001b[0m)             │     \u001b[38;5;34m7,372,864\u001b[0m │\n",
       "├─────────────────────────────────┼────────────────────────┼───────────────┤\n",
       "│ dropout_1 (\u001b[38;5;33mDropout\u001b[0m)             │ (\u001b[38;5;45mNone\u001b[0m, \u001b[38;5;34m64\u001b[0m)             │             \u001b[38;5;34m0\u001b[0m │\n",
       "├─────────────────────────────────┼────────────────────────┼───────────────┤\n",
       "│ dense_1 (\u001b[38;5;33mDense\u001b[0m)                 │ (\u001b[38;5;45mNone\u001b[0m, \u001b[38;5;34m1\u001b[0m)              │            \u001b[38;5;34m65\u001b[0m │\n",
       "└─────────────────────────────────┴────────────────────────┴───────────────┘\n"
      ]
     },
     "metadata": {},
     "output_type": "display_data"
    },
    {
     "data": {
      "text/html": [
       "<pre style=\"white-space:pre;overflow-x:auto;line-height:normal;font-family:Menlo,'DejaVu Sans Mono',consolas,'Courier New',monospace\"><span style=\"font-weight: bold\"> Total params: </span><span style=\"color: #00af00; text-decoration-color: #00af00\">7,475,425</span> (28.52 MB)\n",
       "</pre>\n"
      ],
      "text/plain": [
       "\u001b[1m Total params: \u001b[0m\u001b[38;5;34m7,475,425\u001b[0m (28.52 MB)\n"
      ]
     },
     "metadata": {},
     "output_type": "display_data"
    },
    {
     "data": {
      "text/html": [
       "<pre style=\"white-space:pre;overflow-x:auto;line-height:normal;font-family:Menlo,'DejaVu Sans Mono',consolas,'Courier New',monospace\"><span style=\"font-weight: bold\"> Trainable params: </span><span style=\"color: #00af00; text-decoration-color: #00af00\">7,475,425</span> (28.52 MB)\n",
       "</pre>\n"
      ],
      "text/plain": [
       "\u001b[1m Trainable params: \u001b[0m\u001b[38;5;34m7,475,425\u001b[0m (28.52 MB)\n"
      ]
     },
     "metadata": {},
     "output_type": "display_data"
    },
    {
     "data": {
      "text/html": [
       "<pre style=\"white-space:pre;overflow-x:auto;line-height:normal;font-family:Menlo,'DejaVu Sans Mono',consolas,'Courier New',monospace\"><span style=\"font-weight: bold\"> Non-trainable params: </span><span style=\"color: #00af00; text-decoration-color: #00af00\">0</span> (0.00 B)\n",
       "</pre>\n"
      ],
      "text/plain": [
       "\u001b[1m Non-trainable params: \u001b[0m\u001b[38;5;34m0\u001b[0m (0.00 B)\n"
      ]
     },
     "metadata": {},
     "output_type": "display_data"
    }
   ],
   "source": [
    "# CNN Model \n",
    "\n",
    "model = Sequential() \n",
    "\n",
    "# Convolutional Layer with input shape (256,256,3)\n",
    "model.add(Conv2D(filters=32, kernel_size= (3,3), activation= 'relu', input_shape=(256,256,3)) )\n",
    "\n",
    "model.add(Conv2D(filters=32, kernel_size=(3,3), activation='relu' ))\n",
    "model.add(MaxPool2D(pool_size=(2,2)))\n",
    "\n",
    "model.add(Conv2D(filters=64, kernel_size=(3,3), activation='relu' ))\n",
    "model.add(MaxPool2D(pool_size=(2,2)))\n",
    "\n",
    "model.add(Conv2D(filters=128, kernel_size=(3,3), activation='relu' ))\n",
    "model.add(MaxPool2D(pool_size=(2,2)))\n",
    "\n",
    "model.add(Dropout(rate=0.25))\n",
    "\n",
    "model.add(Flatten())\n",
    "model.add(Dense(units=64, activation='relu'))\n",
    "model.add(Dropout(rate=0.25))\n",
    "model.add(Dense(units=1, activation='sigmoid'))\n",
    "\n",
    "model.compile(optimizer='adam', loss='binary_crossentropy', metrics=['accuracy']  )\n",
    " \n",
    "model.summary()"
   ]
  },
  {
   "cell_type": "markdown",
   "metadata": {},
   "source": [
    "### Preparing data using data generator "
   ]
  },
  {
   "cell_type": "code",
   "execution_count": 10,
   "metadata": {
    "execution": {
     "iopub.execute_input": "2023-04-20T06:44:42.816108Z",
     "iopub.status.busy": "2023-04-20T06:44:42.814860Z",
     "iopub.status.idle": "2023-04-20T06:44:42.824362Z",
     "shell.execute_reply": "2023-04-20T06:44:42.822594Z",
     "shell.execute_reply.started": "2023-04-20T06:44:42.816058Z"
    },
    "trusted": true
   },
   "outputs": [],
   "source": [
    "# Expand the size of dataset with new transformed images from the original dataset using ImageDataGenerator.\n",
    "train_datagen = image.ImageDataGenerator(zoom_range = 0.2, shear_range = 0.2 , rescale = 1./255 , horizontal_flip=True)\n",
    "val_datagen = image.ImageDataGenerator(rescale = 1./255)\n",
    "test_datagen = image.ImageDataGenerator(rescale = 1./255)"
   ]
  },
  {
   "cell_type": "code",
   "execution_count": 11,
   "metadata": {
    "execution": {
     "iopub.execute_input": "2023-04-20T06:44:42.826447Z",
     "iopub.status.busy": "2023-04-20T06:44:42.826040Z",
     "iopub.status.idle": "2023-04-20T06:44:42.938661Z",
     "shell.execute_reply": "2023-04-20T06:44:42.937425Z",
     "shell.execute_reply.started": "2023-04-20T06:44:42.826410Z"
    },
    "trusted": true
   },
   "outputs": [
    {
     "name": "stdout",
     "output_type": "stream",
     "text": [
      "Found 90 images belonging to 2 classes.\n"
     ]
    }
   ],
   "source": [
    "train_data = train_datagen.flow_from_directory(directory= \"./train\", target_size=(256,256), batch_size=32, class_mode = 'binary')"
   ]
  },
  {
   "cell_type": "code",
   "execution_count": 12,
   "metadata": {
    "execution": {
     "iopub.execute_input": "2023-04-20T06:44:42.941180Z",
     "iopub.status.busy": "2023-04-20T06:44:42.940083Z",
     "iopub.status.idle": "2023-04-20T06:44:42.949851Z",
     "shell.execute_reply": "2023-04-20T06:44:42.948582Z",
     "shell.execute_reply.started": "2023-04-20T06:44:42.941139Z"
    },
    "trusted": true
   },
   "outputs": [
    {
     "data": {
      "text/plain": [
       "{'cancer': 0, 'non-cancer': 1}"
      ]
     },
     "execution_count": 12,
     "metadata": {},
     "output_type": "execute_result"
    }
   ],
   "source": [
    "train_data.class_indices"
   ]
  },
  {
   "cell_type": "code",
   "execution_count": 13,
   "metadata": {
    "execution": {
     "iopub.execute_input": "2023-04-20T06:44:42.954219Z",
     "iopub.status.busy": "2023-04-20T06:44:42.953801Z",
     "iopub.status.idle": "2023-04-20T06:44:43.062749Z",
     "shell.execute_reply": "2023-04-20T06:44:43.061436Z",
     "shell.execute_reply.started": "2023-04-20T06:44:42.954151Z"
    },
    "trusted": true
   },
   "outputs": [
    {
     "name": "stdout",
     "output_type": "stream",
     "text": [
      "Found 20 images belonging to 2 classes.\n"
     ]
    }
   ],
   "source": [
    "val_data = val_datagen.flow_from_directory(directory= \"./val\", target_size=(256,256), batch_size=32, class_mode = 'binary')"
   ]
  },
  {
   "cell_type": "code",
   "execution_count": 14,
   "metadata": {
    "execution": {
     "iopub.execute_input": "2023-04-20T06:44:43.064738Z",
     "iopub.status.busy": "2023-04-20T06:44:43.064371Z",
     "iopub.status.idle": "2023-04-20T06:44:43.172436Z",
     "shell.execute_reply": "2023-04-20T06:44:43.170966Z",
     "shell.execute_reply.started": "2023-04-20T06:44:43.064704Z"
    },
    "trusted": true
   },
   "outputs": [
    {
     "name": "stdout",
     "output_type": "stream",
     "text": [
      "Found 21 images belonging to 2 classes.\n"
     ]
    }
   ],
   "source": [
    "test_data = test_datagen.flow_from_directory(directory= \"./test\", target_size=(256,256), batch_size=32, class_mode = 'binary')"
   ]
  },
  {
   "cell_type": "code",
   "execution_count": 15,
   "metadata": {
    "execution": {
     "iopub.execute_input": "2023-04-20T06:44:43.175104Z",
     "iopub.status.busy": "2023-04-20T06:44:43.174309Z",
     "iopub.status.idle": "2023-04-20T06:44:43.180819Z",
     "shell.execute_reply": "2023-04-20T06:44:43.179707Z",
     "shell.execute_reply.started": "2023-04-20T06:44:43.175052Z"
    },
    "trusted": true
   },
   "outputs": [],
   "source": [
    "# Adding Model check point Callback\n",
    "mc = ModelCheckpoint(filepath=\"model.keras\", monitor= 'val_accuracy', verbose= 1, save_best_only= True, mode = 'auto');\n",
    "call_back = [ mc ];"
   ]
  },
  {
   "cell_type": "code",
   "execution_count": 21,
   "metadata": {
    "execution": {
     "iopub.execute_input": "2023-04-20T06:44:43.183000Z",
     "iopub.status.busy": "2023-04-20T06:44:43.181978Z",
     "iopub.status.idle": "2023-04-20T06:51:07.269094Z",
     "shell.execute_reply": "2023-04-20T06:51:07.267651Z",
     "shell.execute_reply.started": "2023-04-20T06:44:43.182964Z"
    },
    "trusted": true
   },
   "outputs": [
    {
     "name": "stdout",
     "output_type": "stream",
     "text": [
      "Epoch 1/32\n",
      "\u001b[1m2/2\u001b[0m \u001b[32m━━━━━━━━━━━━━━━━━━━━\u001b[0m\u001b[37m\u001b[0m \u001b[1m0s\u001b[0m 1s/step - accuracy: 0.5938 - loss: 0.7819\n",
      "Epoch 1: val_accuracy improved from -inf to 0.65000, saving model to model.keras\n",
      "\u001b[1m2/2\u001b[0m \u001b[32m━━━━━━━━━━━━━━━━━━━━\u001b[0m\u001b[37m\u001b[0m \u001b[1m3s\u001b[0m 1s/step - accuracy: 0.5729 - loss: 0.7824 - val_accuracy: 0.6500 - val_loss: 0.6678\n",
      "Epoch 2/32\n",
      "\u001b[1m1/2\u001b[0m \u001b[32m━━━━━━━━━━\u001b[0m\u001b[37m━━━━━━━━━━\u001b[0m \u001b[1m0s\u001b[0m 725ms/step - accuracy: 0.5000 - loss: 0.6902\n",
      "Epoch 2: val_accuracy did not improve from 0.65000\n",
      "\u001b[1m2/2\u001b[0m \u001b[32m━━━━━━━━━━━━━━━━━━━━\u001b[0m\u001b[37m\u001b[0m \u001b[1m1s\u001b[0m 222ms/step - accuracy: 0.5000 - loss: 0.6902 - val_accuracy: 0.6500 - val_loss: 0.6496\n",
      "Epoch 3/32\n",
      "\u001b[1m2/2\u001b[0m \u001b[32m━━━━━━━━━━━━━━━━━━━━\u001b[0m\u001b[37m\u001b[0m \u001b[1m0s\u001b[0m 765ms/step - accuracy: 0.6487 - loss: 0.6388\n",
      "Epoch 3: val_accuracy did not improve from 0.65000\n",
      "\u001b[1m2/2\u001b[0m \u001b[32m━━━━━━━━━━━━━━━━━━━━\u001b[0m\u001b[37m\u001b[0m \u001b[1m2s\u001b[0m 974ms/step - accuracy: 0.6566 - loss: 0.6332 - val_accuracy: 0.6500 - val_loss: 0.6695\n",
      "Epoch 4/32\n",
      "\u001b[1m1/2\u001b[0m \u001b[32m━━━━━━━━━━\u001b[0m\u001b[37m━━━━━━━━━━\u001b[0m \u001b[1m0s\u001b[0m 958ms/step - accuracy: 0.6250 - loss: 0.7091\n",
      "Epoch 4: val_accuracy did not improve from 0.65000\n",
      "\u001b[1m2/2\u001b[0m \u001b[32m━━━━━━━━━━━━━━━━━━━━\u001b[0m\u001b[37m\u001b[0m \u001b[1m1s\u001b[0m 214ms/step - accuracy: 0.6250 - loss: 0.7091 - val_accuracy: 0.6500 - val_loss: 0.6599\n",
      "Epoch 5/32\n",
      "\u001b[1m2/2\u001b[0m \u001b[32m━━━━━━━━━━━━━━━━━━━━\u001b[0m\u001b[37m\u001b[0m \u001b[1m0s\u001b[0m 983ms/step - accuracy: 0.7228 - loss: 0.5869\n",
      "Epoch 5: val_accuracy did not improve from 0.65000\n",
      "\u001b[1m2/2\u001b[0m \u001b[32m━━━━━━━━━━━━━━━━━━━━\u001b[0m\u001b[37m\u001b[0m \u001b[1m2s\u001b[0m 1s/step - accuracy: 0.6945 - loss: 0.6075 - val_accuracy: 0.6500 - val_loss: 0.6545\n",
      "Epoch 6/32\n",
      "\u001b[1m1/2\u001b[0m \u001b[32m━━━━━━━━━━\u001b[0m\u001b[37m━━━━━━━━━━\u001b[0m \u001b[1m0s\u001b[0m 940ms/step - accuracy: 0.7188 - loss: 0.5656\n",
      "Epoch 6: val_accuracy did not improve from 0.65000\n",
      "\u001b[1m2/2\u001b[0m \u001b[32m━━━━━━━━━━━━━━━━━━━━\u001b[0m\u001b[37m\u001b[0m \u001b[1m1s\u001b[0m 212ms/step - accuracy: 0.7188 - loss: 0.5656 - val_accuracy: 0.6500 - val_loss: 0.6511\n",
      "Epoch 7/32\n",
      "\u001b[1m2/2\u001b[0m \u001b[32m━━━━━━━━━━━━━━━━━━━━\u001b[0m\u001b[37m\u001b[0m \u001b[1m0s\u001b[0m 743ms/step - accuracy: 0.5603 - loss: 0.6817\n",
      "Epoch 7: val_accuracy did not improve from 0.65000\n",
      "\u001b[1m2/2\u001b[0m \u001b[32m━━━━━━━━━━━━━━━━━━━━\u001b[0m\u001b[37m\u001b[0m \u001b[1m2s\u001b[0m 955ms/step - accuracy: 0.5805 - loss: 0.6717 - val_accuracy: 0.6500 - val_loss: 0.6497\n",
      "Epoch 8/32\n",
      "\u001b[1m1/2\u001b[0m \u001b[32m━━━━━━━━━━\u001b[0m\u001b[37m━━━━━━━━━━\u001b[0m \u001b[1m0s\u001b[0m 947ms/step - accuracy: 0.7500 - loss: 0.5816\n",
      "Epoch 8: val_accuracy did not improve from 0.65000\n",
      "\u001b[1m2/2\u001b[0m \u001b[32m━━━━━━━━━━━━━━━━━━━━\u001b[0m\u001b[37m\u001b[0m \u001b[1m1s\u001b[0m 214ms/step - accuracy: 0.7500 - loss: 0.5816 - val_accuracy: 0.6500 - val_loss: 0.6522\n",
      "Epoch 9/32\n",
      "\u001b[1m2/2\u001b[0m \u001b[32m━━━━━━━━━━━━━━━━━━━━\u001b[0m\u001b[37m\u001b[0m \u001b[1m0s\u001b[0m 951ms/step - accuracy: 0.6484 - loss: 0.6332\n",
      "Epoch 9: val_accuracy did not improve from 0.65000\n",
      "\u001b[1m2/2\u001b[0m \u001b[32m━━━━━━━━━━━━━━━━━━━━\u001b[0m\u001b[37m\u001b[0m \u001b[1m2s\u001b[0m 1s/step - accuracy: 0.6562 - loss: 0.6269 - val_accuracy: 0.6500 - val_loss: 0.6552\n",
      "Epoch 10/32\n",
      "\u001b[1m1/2\u001b[0m \u001b[32m━━━━━━━━━━\u001b[0m\u001b[37m━━━━━━━━━━\u001b[0m \u001b[1m0s\u001b[0m 727ms/step - accuracy: 0.6538 - loss: 0.6297\n",
      "Epoch 10: val_accuracy did not improve from 0.65000\n",
      "\u001b[1m2/2\u001b[0m \u001b[32m━━━━━━━━━━━━━━━━━━━━\u001b[0m\u001b[37m\u001b[0m \u001b[1m1s\u001b[0m 216ms/step - accuracy: 0.6538 - loss: 0.6297 - val_accuracy: 0.6500 - val_loss: 0.6521\n",
      "Epoch 11/32\n",
      "\u001b[1m2/2\u001b[0m \u001b[32m━━━━━━━━━━━━━━━━━━━━\u001b[0m\u001b[37m\u001b[0m \u001b[1m0s\u001b[0m 992ms/step - accuracy: 0.5988 - loss: 0.6682\n",
      "Epoch 11: val_accuracy did not improve from 0.65000\n",
      "\u001b[1m2/2\u001b[0m \u001b[32m━━━━━━━━━━━━━━━━━━━━\u001b[0m\u001b[37m\u001b[0m \u001b[1m2s\u001b[0m 1s/step - accuracy: 0.6061 - loss: 0.6617 - val_accuracy: 0.6500 - val_loss: 0.6467\n",
      "Epoch 12/32\n",
      "\u001b[1m1/2\u001b[0m \u001b[32m━━━━━━━━━━\u001b[0m\u001b[37m━━━━━━━━━━\u001b[0m \u001b[1m0s\u001b[0m 949ms/step - accuracy: 0.7812 - loss: 0.5657\n",
      "Epoch 12: val_accuracy did not improve from 0.65000\n",
      "\u001b[1m2/2\u001b[0m \u001b[32m━━━━━━━━━━━━━━━━━━━━\u001b[0m\u001b[37m\u001b[0m \u001b[1m1s\u001b[0m 220ms/step - accuracy: 0.7812 - loss: 0.5657 - val_accuracy: 0.6500 - val_loss: 0.6439\n",
      "Epoch 13/32\n",
      "\u001b[1m2/2\u001b[0m \u001b[32m━━━━━━━━━━━━━━━━━━━━\u001b[0m\u001b[37m\u001b[0m \u001b[1m0s\u001b[0m 771ms/step - accuracy: 0.6487 - loss: 0.6221\n",
      "Epoch 13: val_accuracy did not improve from 0.65000\n",
      "\u001b[1m2/2\u001b[0m \u001b[32m━━━━━━━━━━━━━━━━━━━━\u001b[0m\u001b[37m\u001b[0m \u001b[1m2s\u001b[0m 986ms/step - accuracy: 0.6566 - loss: 0.6146 - val_accuracy: 0.6500 - val_loss: 0.6740\n",
      "Epoch 14/32\n",
      "\u001b[1m1/2\u001b[0m \u001b[32m━━━━━━━━━━\u001b[0m\u001b[37m━━━━━━━━━━\u001b[0m \u001b[1m0s\u001b[0m 953ms/step - accuracy: 0.6562 - loss: 0.6291\n",
      "Epoch 14: val_accuracy did not improve from 0.65000\n",
      "\u001b[1m2/2\u001b[0m \u001b[32m━━━━━━━━━━━━━━━━━━━━\u001b[0m\u001b[37m\u001b[0m \u001b[1m1s\u001b[0m 223ms/step - accuracy: 0.6562 - loss: 0.6291 - val_accuracy: 0.6500 - val_loss: 0.6506\n",
      "Epoch 15/32\n",
      "\u001b[1m2/2\u001b[0m \u001b[32m━━━━━━━━━━━━━━━━━━━━\u001b[0m\u001b[37m\u001b[0m \u001b[1m0s\u001b[0m 973ms/step - accuracy: 0.6094 - loss: 0.6256\n",
      "Epoch 15: val_accuracy did not improve from 0.65000\n",
      "\u001b[1m2/2\u001b[0m \u001b[32m━━━━━━━━━━━━━━━━━━━━\u001b[0m\u001b[37m\u001b[0m \u001b[1m2s\u001b[0m 1s/step - accuracy: 0.6250 - loss: 0.6176 - val_accuracy: 0.6500 - val_loss: 0.6424\n",
      "Epoch 16/32\n",
      "\u001b[1m1/2\u001b[0m \u001b[32m━━━━━━━━━━\u001b[0m\u001b[37m━━━━━━━━━━\u001b[0m \u001b[1m0s\u001b[0m 736ms/step - accuracy: 0.6923 - loss: 0.5560\n",
      "Epoch 16: val_accuracy did not improve from 0.65000\n",
      "\u001b[1m2/2\u001b[0m \u001b[32m━━━━━━━━━━━━━━━━━━━━\u001b[0m\u001b[37m\u001b[0m \u001b[1m1s\u001b[0m 221ms/step - accuracy: 0.6923 - loss: 0.5560 - val_accuracy: 0.6500 - val_loss: 0.6403\n",
      "Epoch 17/32\n",
      "\u001b[1m2/2\u001b[0m \u001b[32m━━━━━━━━━━━━━━━━━━━━\u001b[0m\u001b[37m\u001b[0m \u001b[1m0s\u001b[0m 996ms/step - accuracy: 0.6172 - loss: 0.6063\n",
      "Epoch 17: val_accuracy did not improve from 0.65000\n",
      "\u001b[1m2/2\u001b[0m \u001b[32m━━━━━━━━━━━━━━━━━━━━\u001b[0m\u001b[37m\u001b[0m \u001b[1m2s\u001b[0m 1s/step - accuracy: 0.6250 - loss: 0.6035 - val_accuracy: 0.6500 - val_loss: 0.6450\n",
      "Epoch 18/32\n",
      "\u001b[1m1/2\u001b[0m \u001b[32m━━━━━━━━━━\u001b[0m\u001b[37m━━━━━━━━━━\u001b[0m \u001b[1m0s\u001b[0m 750ms/step - accuracy: 0.7308 - loss: 0.4925\n",
      "Epoch 18: val_accuracy did not improve from 0.65000\n",
      "\u001b[1m2/2\u001b[0m \u001b[32m━━━━━━━━━━━━━━━━━━━━\u001b[0m\u001b[37m\u001b[0m \u001b[1m1s\u001b[0m 222ms/step - accuracy: 0.7308 - loss: 0.4925 - val_accuracy: 0.6500 - val_loss: 0.7219\n",
      "Epoch 19/32\n",
      "\u001b[1m2/2\u001b[0m \u001b[32m━━━━━━━━━━━━━━━━━━━━\u001b[0m\u001b[37m\u001b[0m \u001b[1m0s\u001b[0m 796ms/step - accuracy: 0.6730 - loss: 0.5333\n",
      "Epoch 19: val_accuracy improved from 0.65000 to 0.70000, saving model to model.keras\n",
      "\u001b[1m2/2\u001b[0m \u001b[32m━━━━━━━━━━━━━━━━━━━━\u001b[0m\u001b[37m\u001b[0m \u001b[1m2s\u001b[0m 1s/step - accuracy: 0.6785 - loss: 0.5402 - val_accuracy: 0.7000 - val_loss: 0.6315\n",
      "Epoch 20/32\n",
      "\u001b[1m1/2\u001b[0m \u001b[32m━━━━━━━━━━\u001b[0m\u001b[37m━━━━━━━━━━\u001b[0m \u001b[1m1s\u001b[0m 1s/step - accuracy: 0.6562 - loss: 0.5767\n",
      "Epoch 20: val_accuracy did not improve from 0.70000\n",
      "\u001b[1m2/2\u001b[0m \u001b[32m━━━━━━━━━━━━━━━━━━━━\u001b[0m\u001b[37m\u001b[0m \u001b[1m1s\u001b[0m 229ms/step - accuracy: 0.6562 - loss: 0.5767 - val_accuracy: 0.7000 - val_loss: 0.6388\n",
      "Epoch 21/32\n",
      "\u001b[1m2/2\u001b[0m \u001b[32m━━━━━━━━━━━━━━━━━━━━\u001b[0m\u001b[37m\u001b[0m \u001b[1m0s\u001b[0m 821ms/step - accuracy: 0.6902 - loss: 0.5567\n",
      "Epoch 21: val_accuracy did not improve from 0.70000\n",
      "\u001b[1m2/2\u001b[0m \u001b[32m━━━━━━━━━━━━━━━━━━━━\u001b[0m\u001b[37m\u001b[0m \u001b[1m2s\u001b[0m 1s/step - accuracy: 0.7015 - loss: 0.5545 - val_accuracy: 0.6500 - val_loss: 0.6499\n",
      "Epoch 22/32\n",
      "\u001b[1m1/2\u001b[0m \u001b[32m━━━━━━━━━━\u001b[0m\u001b[37m━━━━━━━━━━\u001b[0m \u001b[1m1s\u001b[0m 1s/step - accuracy: 0.5938 - loss: 0.6915\n",
      "Epoch 22: val_accuracy did not improve from 0.70000\n",
      "\u001b[1m2/2\u001b[0m \u001b[32m━━━━━━━━━━━━━━━━━━━━\u001b[0m\u001b[37m\u001b[0m \u001b[1m1s\u001b[0m 239ms/step - accuracy: 0.5938 - loss: 0.6915 - val_accuracy: 0.6500 - val_loss: 0.6816\n",
      "Epoch 23/32\n",
      "\u001b[1m2/2\u001b[0m \u001b[32m━━━━━━━━━━━━━━━━━━━━\u001b[0m\u001b[37m\u001b[0m \u001b[1m0s\u001b[0m 1s/step - accuracy: 0.6718 - loss: 0.5450\n",
      "Epoch 23: val_accuracy did not improve from 0.70000\n",
      "\u001b[1m2/2\u001b[0m \u001b[32m━━━━━━━━━━━━━━━━━━━━\u001b[0m\u001b[37m\u001b[0m \u001b[1m2s\u001b[0m 1s/step - accuracy: 0.6777 - loss: 0.5419 - val_accuracy: 0.6500 - val_loss: 0.6736\n",
      "Epoch 24/32\n",
      "\u001b[1m1/2\u001b[0m \u001b[32m━━━━━━━━━━\u001b[0m\u001b[37m━━━━━━━━━━\u001b[0m \u001b[1m0s\u001b[0m 968ms/step - accuracy: 0.6562 - loss: 0.5158\n",
      "Epoch 24: val_accuracy did not improve from 0.70000\n",
      "\u001b[1m2/2\u001b[0m \u001b[32m━━━━━━━━━━━━━━━━━━━━\u001b[0m\u001b[37m\u001b[0m \u001b[1m1s\u001b[0m 224ms/step - accuracy: 0.6562 - loss: 0.5158 - val_accuracy: 0.6500 - val_loss: 0.6863\n",
      "Epoch 25/32\n",
      "\u001b[1m2/2\u001b[0m \u001b[32m━━━━━━━━━━━━━━━━━━━━\u001b[0m\u001b[37m\u001b[0m \u001b[1m0s\u001b[0m 810ms/step - accuracy: 0.7284 - loss: 0.5633\n",
      "Epoch 25: val_accuracy did not improve from 0.70000\n",
      "\u001b[1m2/2\u001b[0m \u001b[32m━━━━━━━━━━━━━━━━━━━━\u001b[0m\u001b[37m\u001b[0m \u001b[1m2s\u001b[0m 1s/step - accuracy: 0.7213 - loss: 0.5588 - val_accuracy: 0.7000 - val_loss: 0.6818\n",
      "Epoch 26/32\n",
      "\u001b[1m1/2\u001b[0m \u001b[32m━━━━━━━━━━\u001b[0m\u001b[37m━━━━━━━━━━\u001b[0m \u001b[1m0s\u001b[0m 977ms/step - accuracy: 0.9062 - loss: 0.4410\n",
      "Epoch 26: val_accuracy did not improve from 0.70000\n",
      "\u001b[1m2/2\u001b[0m \u001b[32m━━━━━━━━━━━━━━━━━━━━\u001b[0m\u001b[37m\u001b[0m \u001b[1m1s\u001b[0m 228ms/step - accuracy: 0.9062 - loss: 0.4410 - val_accuracy: 0.6500 - val_loss: 0.8483\n",
      "Epoch 27/32\n",
      "\u001b[1m2/2\u001b[0m \u001b[32m━━━━━━━━━━━━━━━━━━━━\u001b[0m\u001b[37m\u001b[0m \u001b[1m0s\u001b[0m 1s/step - accuracy: 0.6562 - loss: 0.5262\n",
      "Epoch 27: val_accuracy did not improve from 0.70000\n",
      "\u001b[1m2/2\u001b[0m \u001b[32m━━━━━━━━━━━━━━━━━━━━\u001b[0m\u001b[37m\u001b[0m \u001b[1m3s\u001b[0m 1s/step - accuracy: 0.6771 - loss: 0.5106 - val_accuracy: 0.6500 - val_loss: 0.9229\n",
      "Epoch 28/32\n",
      "\u001b[1m1/2\u001b[0m \u001b[32m━━━━━━━━━━\u001b[0m\u001b[37m━━━━━━━━━━\u001b[0m \u001b[1m0s\u001b[0m 772ms/step - accuracy: 0.7692 - loss: 0.5297\n",
      "Epoch 28: val_accuracy did not improve from 0.70000\n",
      "\u001b[1m2/2\u001b[0m \u001b[32m━━━━━━━━━━━━━━━━━━━━\u001b[0m\u001b[37m\u001b[0m \u001b[1m1s\u001b[0m 228ms/step - accuracy: 0.7692 - loss: 0.5297 - val_accuracy: 0.6500 - val_loss: 0.9060\n",
      "Epoch 29/32\n",
      "\u001b[1m2/2\u001b[0m \u001b[32m━━━━━━━━━━━━━━━━━━━━\u001b[0m\u001b[37m\u001b[0m \u001b[1m0s\u001b[0m 823ms/step - accuracy: 0.8098 - loss: 0.3814\n",
      "Epoch 29: val_accuracy did not improve from 0.70000\n",
      "\u001b[1m2/2\u001b[0m \u001b[32m━━━━━━━━━━━━━━━━━━━━\u001b[0m\u001b[37m\u001b[0m \u001b[1m2s\u001b[0m 1s/step - accuracy: 0.7985 - loss: 0.3970 - val_accuracy: 0.6500 - val_loss: 1.0777\n",
      "Epoch 30/32\n",
      "\u001b[1m1/2\u001b[0m \u001b[32m━━━━━━━━━━\u001b[0m\u001b[37m━━━━━━━━━━\u001b[0m \u001b[1m0s\u001b[0m 989ms/step - accuracy: 0.6250 - loss: 0.5833\n",
      "Epoch 30: val_accuracy did not improve from 0.70000\n",
      "\u001b[1m2/2\u001b[0m \u001b[32m━━━━━━━━━━━━━━━━━━━━\u001b[0m\u001b[37m\u001b[0m \u001b[1m1s\u001b[0m 227ms/step - accuracy: 0.6250 - loss: 0.5833 - val_accuracy: 0.7000 - val_loss: 0.8487\n",
      "Epoch 31/32\n",
      "\u001b[1m2/2\u001b[0m \u001b[32m━━━━━━━━━━━━━━━━━━━━\u001b[0m\u001b[37m\u001b[0m \u001b[1m0s\u001b[0m 820ms/step - accuracy: 0.8200 - loss: 0.3809\n",
      "Epoch 31: val_accuracy did not improve from 0.70000\n",
      "\u001b[1m2/2\u001b[0m \u001b[32m━━━━━━━━━━━━━━━━━━━━\u001b[0m\u001b[37m\u001b[0m \u001b[1m2s\u001b[0m 1s/step - accuracy: 0.8226 - loss: 0.3834 - val_accuracy: 0.7000 - val_loss: 0.8371\n",
      "Epoch 32/32\n",
      "\u001b[1m1/2\u001b[0m \u001b[32m━━━━━━━━━━\u001b[0m\u001b[37m━━━━━━━━━━\u001b[0m \u001b[1m1s\u001b[0m 1s/step - accuracy: 0.7812 - loss: 0.4035\n",
      "Epoch 32: val_accuracy did not improve from 0.70000\n",
      "\u001b[1m2/2\u001b[0m \u001b[32m━━━━━━━━━━━━━━━━━━━━\u001b[0m\u001b[37m\u001b[0m \u001b[1m1s\u001b[0m 236ms/step - accuracy: 0.7812 - loss: 0.4035 - val_accuracy: 0.7000 - val_loss: 1.0001\n"
     ]
    }
   ],
   "source": [
    "# Fitting the Model\n",
    "cnn = model.fit(train_data, \n",
    "                  steps_per_epoch = 2, \n",
    "                  epochs = 32, \n",
    "                  validation_data = val_data, \n",
    "                  validation_steps = 1,\n",
    "                  callbacks = call_back )\n",
    "\n",
    "# Convert history to a dictionary\n",
    "history_dict = cnn.history  \n",
    "\n",
    "# Save training history to a .npy file\n",
    "np.save(\"training_history.npy\", history_dict)"
   ]
  },
  {
   "cell_type": "code",
   "execution_count": 22,
   "metadata": {
    "execution": {
     "iopub.execute_input": "2023-04-20T06:51:07.271461Z",
     "iopub.status.busy": "2023-04-20T06:51:07.271092Z",
     "iopub.status.idle": "2023-04-20T06:51:07.773878Z",
     "shell.execute_reply": "2023-04-20T06:51:07.772790Z",
     "shell.execute_reply.started": "2023-04-20T06:51:07.271423Z"
    },
    "trusted": true
   },
   "outputs": [],
   "source": [
    "# Loading the Best Fit Model \n",
    "model = load_model(\"./model.keras\")"
   ]
  },
  {
   "cell_type": "markdown",
   "metadata": {},
   "source": [
    "### Model Accuracy"
   ]
  },
  {
   "cell_type": "code",
   "execution_count": 23,
   "metadata": {
    "execution": {
     "iopub.execute_input": "2023-04-20T06:51:07.776265Z",
     "iopub.status.busy": "2023-04-20T06:51:07.775536Z",
     "iopub.status.idle": "2023-04-20T06:51:08.705348Z",
     "shell.execute_reply": "2023-04-20T06:51:08.704261Z",
     "shell.execute_reply.started": "2023-04-20T06:51:07.776225Z"
    },
    "trusted": true
   },
   "outputs": [
    {
     "name": "stdout",
     "output_type": "stream",
     "text": [
      "\u001b[1m1/1\u001b[0m \u001b[32m━━━━━━━━━━━━━━━━━━━━\u001b[0m\u001b[37m\u001b[0m \u001b[1m0s\u001b[0m 443ms/step - accuracy: 0.6667 - loss: 0.5492\n",
      "The accuracy of the model is = 66.66666865348816 %\n"
     ]
    }
   ],
   "source": [
    "# Checking the Accuracy of the Model \n",
    "accuracy = model.evaluate(test_data)[1] \n",
    "print(f\"The accuracy of the model is = {accuracy*100} %\")"
   ]
  },
  {
   "cell_type": "code",
   "execution_count": 24,
   "metadata": {
    "execution": {
     "iopub.execute_input": "2023-04-20T06:51:08.707535Z",
     "iopub.status.busy": "2023-04-20T06:51:08.706879Z",
     "iopub.status.idle": "2023-04-20T06:51:08.715027Z",
     "shell.execute_reply": "2023-04-20T06:51:08.713639Z",
     "shell.execute_reply.started": "2023-04-20T06:51:08.707499Z"
    },
    "trusted": true
   },
   "outputs": [
    {
     "data": {
      "text/plain": [
       "dict_keys(['accuracy', 'loss', 'val_accuracy', 'val_loss'])"
      ]
     },
     "execution_count": 24,
     "metadata": {},
     "output_type": "execute_result"
    }
   ],
   "source": [
    "h =  cnn.history\n",
    "h.keys()"
   ]
  },
  {
   "cell_type": "code",
   "execution_count": 25,
   "metadata": {
    "execution": {
     "iopub.execute_input": "2023-04-20T06:51:08.717678Z",
     "iopub.status.busy": "2023-04-20T06:51:08.716931Z",
     "iopub.status.idle": "2023-04-20T06:51:08.958869Z",
     "shell.execute_reply": "2023-04-20T06:51:08.957623Z",
     "shell.execute_reply.started": "2023-04-20T06:51:08.717607Z"
    },
    "trusted": true
   },
   "outputs": [
    {
     "data": {
      "image/png": "[encoded data removed]",
      "text/plain": [
       "<Figure size 640x480 with 1 Axes>"
      ]
     },
     "metadata": {},
     "output_type": "display_data"
    }
   ],
   "source": [
    "# Ploting Accuracy In Training Set & Validation Set\n",
    "plt.plot(h['accuracy'])\n",
    "plt.plot(h['val_accuracy'] , c = \"red\")\n",
    "plt.title(\"acc vs v-acc\")\n",
    "plt.show()"
   ]
  },
  {
   "cell_type": "code",
   "execution_count": 26,
   "metadata": {
    "execution": {
     "iopub.execute_input": "2023-04-20T06:51:08.961657Z",
     "iopub.status.busy": "2023-04-20T06:51:08.960495Z",
     "iopub.status.idle": "2023-04-20T06:51:09.178603Z",
     "shell.execute_reply": "2023-04-20T06:51:09.177304Z",
     "shell.execute_reply.started": "2023-04-20T06:51:08.961614Z"
    },
    "trusted": true
   },
   "outputs": [
    {
     "data": {
      "image/png": "[encoded data removed]",
      "text/plain": [
       "<Figure size 640x480 with 1 Axes>"
      ]
     },
     "metadata": {},
     "output_type": "display_data"
    }
   ],
   "source": [
    "# Ploting Loss In Training Set & Validation Set\n",
    "plt.plot(h['loss'])\n",
    "plt.plot(h['val_loss'] , c = \"red\")\n",
    "plt.title(\"loss vs v-loss\")\n",
    "plt.show()"
   ]
  },
  {
   "cell_type": "code",
   "execution_count": 27,
   "metadata": {
    "execution": {
     "iopub.execute_input": "2023-04-20T06:51:09.180411Z",
     "iopub.status.busy": "2023-04-20T06:51:09.180065Z",
     "iopub.status.idle": "2023-04-20T06:51:09.462375Z",
     "shell.execute_reply": "2023-04-20T06:51:09.461518Z",
     "shell.execute_reply.started": "2023-04-20T06:51:09.180377Z"
    },
    "trusted": true
   },
   "outputs": [
    {
     "name": "stdout",
     "output_type": "stream",
     "text": [
      "\u001b[1m1/1\u001b[0m \u001b[32m━━━━━━━━━━━━━━━━━━━━\u001b[0m\u001b[37m\u001b[0m \u001b[1m0s\u001b[0m 52ms/step\n",
      "Non-Cancer\n"
     ]
    }
   ],
   "source": [
    "def cancerPrediction(path):\n",
    "    # Loading Image\n",
    "    img = image.load_img(path, target_size=(256,256))\n",
    "    # Normalizing Image\n",
    "    norm_img = image.img_to_array(img)/255\n",
    "    # Converting Image to Numpy Array\n",
    "    input_arr_img = np.array([norm_img])\n",
    "    # Getting Predictions\n",
    "    pred = (model.predict(input_arr_img) > 0.5).astype(int)[0][0]\n",
    "    # Printing Model Prediction\n",
    "    if pred == 0:\n",
    "        print(\"Cancer\")\n",
    "    else:\n",
    "        print(\"Non-Cancer\")\n",
    "    \n",
    "# Path for the image to get predictions    \n",
    "path = \"./image_data/non-cancer/_tongue.jpg\"\n",
    "cancerPrediction(path)"
   ]
  }
 ],
 "metadata": {
  "kernelspec": {
   "display_name": "oral-cancer",
   "language": "python",
   "name": "python3"
  },
  "language_info": {
   "codemirror_mode": {
    "name": "ipython",
    "version": 3
   },
   "file_extension": ".py",
   "mimetype": "text/x-python",
   "name": "python",
   "nbconvert_exporter": "python",
   "pygments_lexer": "ipython3",
   "version": "3.9.21"
  }
 },
 "nbformat": 4,
 "nbformat_minor": 4
}
